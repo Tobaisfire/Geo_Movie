{
 "cells": [
  {
   "cell_type": "code",
   "execution_count": 15,
   "metadata": {},
   "outputs": [
    {
     "name": "stdout",
     "output_type": "stream",
     "text": [
      "Money Heist\n"
     ]
    },
    {
     "ename": "AttributeError",
     "evalue": "'str' object has no attribute 'screenshot'",
     "output_type": "error",
     "traceback": [
      "\u001b[1;31m---------------------------------------------------------------------------\u001b[0m",
      "\u001b[1;31mAttributeError\u001b[0m                            Traceback (most recent call last)",
      "\u001b[1;32md:\\keval\\study\\Movie_Geomania\\img.ipynb Cell 1\u001b[0m in \u001b[0;36m<cell line: 51>\u001b[1;34m()\u001b[0m\n\u001b[0;32m     <a href='vscode-notebook-cell:/d%3A/keval/study/Movie_Geomania/img.ipynb#W0sZmlsZQ%3D%3D?line=47'>48</a>\u001b[0m \u001b[39mprint\u001b[39m(series)\n\u001b[0;32m     <a href='vscode-notebook-cell:/d%3A/keval/study/Movie_Geomania/img.ipynb#W0sZmlsZQ%3D%3D?line=49'>50</a>\u001b[0m \u001b[39m# print the cover\u001b[39;00m\n\u001b[1;32m---> <a href='vscode-notebook-cell:/d%3A/keval/study/Movie_Geomania/img.ipynb#W0sZmlsZQ%3D%3D?line=50'>51</a>\u001b[0m \u001b[39mprint\u001b[39m(cover\u001b[39m.\u001b[39;49mscreenshot)\n",
      "\u001b[1;31mAttributeError\u001b[0m: 'str' object has no attribute 'screenshot'"
     ]
    }
   ],
   "source": [
    "\n",
    "import imdb\n",
    "import time\n",
    "import requests\n",
    "from selenium import webdriver\n",
    "from selenium.webdriver.support.ui import WebDriverWait\n",
    "from selenium.webdriver.support import expected_conditions as EC\n",
    "from selenium.webdriver.common.by import By\n",
    "import os \n",
    "import folium\n",
    "from folium import plugins\n",
    "import warnings\n",
    "\n",
    "from bs4 import BeautifulSoup\n",
    "import pandas as pd\n",
    "\n",
    "warnings.filterwarnings(\"ignore\", category=DeprecationWarning)\n",
    "warnings.filterwarnings(\"ignore\")\n",
    "chrome_options = webdriver.ChromeOptions()\n",
    "\n",
    "\n",
    "\n",
    "# chrome_options.add_argument('--kiosk-printing')\n",
    "CHROMEDRIVER_PATH ='D:/keval/chromedriver'\n",
    "\n",
    "options = webdriver.ChromeOptions()\n",
    "options.add_argument('--headless')\n",
    "options.add_argument('--no-sandbox')\n",
    "options.add_argument('--disable-dev-shm-usage')\n",
    "options.add_argument('--log-level=3')\n",
    "options.add_argument('--ignore-certificate-errors')\n",
    "\n",
    "CHROMEDRIVER_PATH ='D:/keval/chromedriver'\n",
    "import imdb\n",
    "  \n",
    "# creating instance of IMDb\n",
    "ia = imdb.IMDb()\n",
    "  \n",
    "# id\n",
    "code = \"6468322\"\n",
    "  \n",
    "# getting information\n",
    "series = ia.get_movie(code)\n",
    "  \n",
    "# getting cover url of the series\n",
    "cover = series.data['cover url']\n",
    "  \n",
    "# printing the object i.e name\n",
    "print(series)\n",
    "  \n",
    "# print the cover\n",
    "print(cover.screenshot)\n"
   ]
  }
 ],
 "metadata": {
  "kernelspec": {
   "display_name": "Python 3.10.5 64-bit",
   "language": "python",
   "name": "python3"
  },
  "language_info": {
   "codemirror_mode": {
    "name": "ipython",
    "version": 3
   },
   "file_extension": ".py",
   "mimetype": "text/x-python",
   "name": "python",
   "nbconvert_exporter": "python",
   "pygments_lexer": "ipython3",
   "version": "3.10.5"
  },
  "orig_nbformat": 4,
  "vscode": {
   "interpreter": {
    "hash": "542361033dc5827f087c2250d54549789f2a83a90a0102a689a4106d106cac6d"
   }
  }
 },
 "nbformat": 4,
 "nbformat_minor": 2
}
